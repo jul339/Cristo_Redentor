{
 "cells": [
  {
   "cell_type": "markdown",
   "metadata": {},
   "source": [
    "This python script finds the code of the building closest to the Cristo Redentor using the data of this database : https://sites.research.google/open-buildings"
   ]
  },
  {
   "cell_type": "code",
   "execution_count": 1,
   "metadata": {},
   "outputs": [],
   "source": [
    "import requests\n",
    "import pandas as pd\n",
    "import geopandas as gpd\n",
    "from shapely.geometry import Point, Polygon\n",
    "# Creation of the point at the coordinate of the Cristo Redentor statue\n",
    "STATUE_POINT = Point(-43.2075000,-22.9027800)"
   ]
  },
  {
   "cell_type": "markdown",
   "metadata": {},
   "source": [
    "Craping GeoJSON data containing tiles information"
   ]
  },
  {
   "cell_type": "code",
   "execution_count": 2,
   "metadata": {},
   "outputs": [],
   "source": [
    "URL = \"https://sites.research.google/open-buildings/tiles.geojson\"\n",
    "response = requests.get(URL)\n",
    "json_resp = response.json()"
   ]
  },
  {
   "cell_type": "markdown",
   "metadata": {},
   "source": [
    "Finding the tile url of Rio considering that the statue is in Rio."
   ]
  },
  {
   "cell_type": "code",
   "execution_count": 3,
   "metadata": {},
   "outputs": [
    {
     "name": "stdout",
     "output_type": "stream",
     "text": [
      "True\n"
     ]
    }
   ],
   "source": [
    "for feature in json_resp['features']:\n",
    "    RIO_TILE_POLY = Polygon(feature[\"geometry\"][\"coordinates\"][0])\n",
    "    if RIO_TILE_POLY.contains(STATUE_POINT):\n",
    "        RioFeature = feature\n",
    "tileURL = RioFeature[\"properties\"][\"tile_url\"]\n",
    "# Map on the web site show Rio tile id is 009  \n",
    "print(RioFeature[\"properties\"][\"tile_id\"] == '009')\n"
   ]
  },
  {
   "cell_type": "markdown",
   "metadata": {},
   "source": [
    "Checking if the statue point is in the polygone of Rio"
   ]
  },
  {
   "cell_type": "code",
   "execution_count": 4,
   "metadata": {},
   "outputs": [
    {
     "name": "stdout",
     "output_type": "stream",
     "text": [
      "True\n"
     ]
    }
   ],
   "source": [
    "STATUE_POINT = Point(-43.2075000,-22.9027800)\n",
    "RIO_TILE_POLY = Polygon([ [ -45.0, -25.9260509 ], [ -39.9812347, -27.7802732 ], [ -39.9812347, -22.7359095 ], [ -45.0, -21.1414374 ], [ -45.0, -25.9260509 ] ] )\n",
    "print(RIO_TILE_POLY.contains(STATUE_POINT))"
   ]
  },
  {
   "cell_type": "markdown",
   "metadata": {},
   "source": [
    "Creation of the GeoDataFrame of Rio buildings from the tile url"
   ]
  },
  {
   "cell_type": "code",
   "execution_count": 5,
   "metadata": {},
   "outputs": [
    {
     "name": "stdout",
     "output_type": "stream",
     "text": [
      "tile url :  https://storage.googleapis.com/open-buildings-data/v3/polygons_s2_level_4_gzip/009_buildings.csv.gz\n"
     ]
    }
   ],
   "source": [
    "print('tile url : ',tileURL)\n",
    "df_Rio_Buildings = pd.read_csv(tileURL, compression='gzip')\n",
    "gdf_Rio_Buildings = gpd.GeoDataFrame(\n",
    "    df_Rio_Buildings, geometry=gpd.points_from_xy(df_Rio_Buildings.longitude, df_Rio_Buildings.latitude), crs=\"EPSG:4326\"\n",
    ")"
   ]
  },
  {
   "cell_type": "markdown",
   "metadata": {},
   "source": [
    "Finding the closest building "
   ]
  },
  {
   "cell_type": "code",
   "execution_count": 6,
   "metadata": {},
   "outputs": [
    {
     "name": "stderr",
     "output_type": "stream",
     "text": [
      "C:\\Users\\Maxime\\AppData\\Local\\Temp\\ipykernel_24160\\3307619193.py:1: UserWarning: Geometry is in a geographic CRS. Results from 'distance' are likely incorrect. Use 'GeoSeries.to_crs()' to re-project geometries to a projected CRS before this operation.\n",
      "\n",
      "  gdf_Rio_Buildings['distance_statue'] = gdf_Rio_Buildings['geometry'].distance(STATUE_POINT)\n"
     ]
    }
   ],
   "source": [
    "gdf_Rio_Buildings['distance_statue'] = gdf_Rio_Buildings['geometry'].distance(STATUE_POINT)\n",
    "closest_building = gdf_Rio_Buildings.loc[gdf_Rio_Buildings['distance_statue'].idxmin()]"
   ]
  },
  {
   "cell_type": "markdown",
   "metadata": {},
   "source": [
    "Code number of the closest building to the Cristo Redentor statue"
   ]
  },
  {
   "cell_type": "code",
   "execution_count": null,
   "metadata": {},
   "outputs": [
    {
     "name": "stdout",
     "output_type": "stream",
     "text": [
      "589R3QWR+WX9W\n"
     ]
    }
   ],
   "source": [
    "print(closest_building[\"full_plus_code\"])"
   ]
  }
 ],
 "metadata": {
  "kernelspec": {
   "display_name": "TechnicalEnv",
   "language": "python",
   "name": "python3"
  },
  "language_info": {
   "codemirror_mode": {
    "name": "ipython",
    "version": 3
   },
   "file_extension": ".py",
   "mimetype": "text/x-python",
   "name": "python",
   "nbconvert_exporter": "python",
   "pygments_lexer": "ipython3",
   "version": "3.12.0"
  }
 },
 "nbformat": 4,
 "nbformat_minor": 2
}
